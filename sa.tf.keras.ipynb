{
 "cells": [
  {
   "cell_type": "code",
   "execution_count": 1,
   "metadata": {},
   "outputs": [
    {
     "name": "stderr",
     "output_type": "stream",
     "text": [
      "/Users/huih/anaconda3/lib/python3.6/importlib/_bootstrap.py:219: RuntimeWarning: compiletime version 3.5 of module 'tensorflow.python.framework.fast_tensor_util' does not match runtime version 3.6\n",
      "  return f(*args, **kwds)\n",
      "/Users/huih/anaconda3/lib/python3.6/site-packages/h5py/__init__.py:36: FutureWarning: Conversion of the second argument of issubdtype from `float` to `np.floating` is deprecated. In future, it will be treated as `np.float64 == np.dtype(float).type`.\n",
      "  from ._conv import register_converters as _register_converters\n"
     ]
    }
   ],
   "source": [
    "from __future__ import print_function\n",
    "\n",
    "import os\n",
    "import sys\n",
    "import numpy as np\n",
    "from tensorflow.keras.preprocessing.text import Tokenizer\n",
    "from tensorflow.keras.preprocessing.sequence import pad_sequences\n",
    "from tensorflow.keras.utils import to_categorical\n",
    "from tensorflow.keras.layers import Dense, Input, GlobalMaxPooling1D\n",
    "from tensorflow.keras.layers import Conv1D, MaxPooling1D, Embedding\n",
    "from tensorflow.keras.models import Model\n",
    "from tensorflow.keras.initializers import Constant\n",
    "from sklearn.model_selection import train_test_split\n",
    "import tensorflow as tf\n",
    "\n",
    "from utils import load_data, data_preprocess\n",
    "\n",
    "import matplotlib.pyplot as plt\n",
    "%matplotlib inline"
   ]
  },
  {
   "cell_type": "code",
   "execution_count": 2,
   "metadata": {},
   "outputs": [],
   "source": [
    "WORD2VEC_DIR = '/Users/huih/Downloads/sgns.weibo.bigram-char'\n",
    "POS_TEXT_FILE = './data/pos.txt'\n",
    "NEG_TEXT_FILE = './data/neg.txt'\n",
    "\n",
    "MAX_SEQUENCE_LENGTH = 20\n",
    "MAX_NUM_WORDS = 22800 # 改数据来自数据分析过程\n",
    "EMBEDDING_DIM = 300\n",
    "VALIDATION_SPLIT = 0.2"
   ]
  },
  {
   "cell_type": "code",
   "execution_count": 3,
   "metadata": {},
   "outputs": [
    {
     "name": "stderr",
     "output_type": "stream",
     "text": [
      "Building prefix dict from the default dictionary ...\n",
      "Loading model from cache /var/folders/wg/fjh1kvtj1v5g555zy343tkkm0000gn/T/jieba.cache\n",
      "Loading model cost 0.638 seconds.\n",
      "Prefix dict has been built succesfully.\n"
     ]
    }
   ],
   "source": [
    "pos_text = load_data(POS_TEXT_FILE)\n",
    "neg_text = load_data(NEG_TEXT_FILE)\n",
    "pos_seg = [data_preprocess(x) for x in pos_text]\n",
    "neg_seg = [data_preprocess(x) for x in neg_text]\n",
    "pos_label = np.ones(len(pos_seg))\n",
    "neg_label = np.zeros(len(neg_seg))"
   ]
  },
  {
   "cell_type": "code",
   "execution_count": 4,
   "metadata": {},
   "outputs": [],
   "source": [
    "texts = pos_seg + neg_seg\n",
    "labels = np.concatenate((pos_label, neg_label), axis=0)"
   ]
  },
  {
   "cell_type": "code",
   "execution_count": 5,
   "metadata": {},
   "outputs": [
    {
     "name": "stdout",
     "output_type": "stream",
     "text": [
      "Found 45323 unique tokens.\n",
      "Shape of data tensor: (50000, 20)\n",
      "Shape of label tensor: (50000,)\n"
     ]
    }
   ],
   "source": [
    "# finally, vectorize the text samples into a 2D integer tensor\n",
    "tokenizer = Tokenizer(num_words=MAX_NUM_WORDS)\n",
    "tokenizer.fit_on_texts(texts)\n",
    "sequences = tokenizer.texts_to_sequences(texts)\n",
    "\n",
    "word_index = tokenizer.word_index\n",
    "print('Found %s unique tokens.' % len(word_index))\n",
    "\n",
    "data = pad_sequences(sequences, maxlen=MAX_SEQUENCE_LENGTH)\n",
    "\n",
    "print('Shape of data tensor:', data.shape)\n",
    "print('Shape of label tensor:', labels.shape)"
   ]
  },
  {
   "cell_type": "code",
   "execution_count": 6,
   "metadata": {},
   "outputs": [
    {
     "data": {
      "text/plain": [
       "[[35, 9, 318, 10, 14, 470, 358],\n",
       " [55,\n",
       "  35,\n",
       "  6,\n",
       "  9,\n",
       "  1,\n",
       "  2820,\n",
       "  14,\n",
       "  1,\n",
       "  69,\n",
       "  80,\n",
       "  162,\n",
       "  3022,\n",
       "  1,\n",
       "  4868,\n",
       "  6786,\n",
       "  193,\n",
       "  1,\n",
       "  7,\n",
       "  8,\n",
       "  60,\n",
       "  2,\n",
       "  648,\n",
       "  1,\n",
       "  11,\n",
       "  2177,\n",
       "  1,\n",
       "  142,\n",
       "  110,\n",
       "  1]]"
      ]
     },
     "execution_count": 6,
     "metadata": {},
     "output_type": "execute_result"
    }
   ],
   "source": [
    "sequences[:2]"
   ]
  },
  {
   "cell_type": "code",
   "execution_count": 7,
   "metadata": {},
   "outputs": [
    {
     "name": "stdout",
     "output_type": "stream",
     "text": [
      "Indexing word vectors.\n",
      "Found 195198 word vectors.\n"
     ]
    }
   ],
   "source": [
    "print('Indexing word vectors.')\n",
    "\n",
    "embeddings_index = {}\n",
    "with open(WORD2VEC_DIR) as f:\n",
    "    for line in f:\n",
    "        word, coefs = line.split(maxsplit=1)\n",
    "        coefs = np.fromstring(coefs, 'f', sep=' ')\n",
    "        embeddings_index[word] = coefs\n",
    "\n",
    "print('Found %s word vectors.' % len(embeddings_index))"
   ]
  },
  {
   "cell_type": "code",
   "execution_count": 8,
   "metadata": {},
   "outputs": [
    {
     "data": {
      "text/plain": [
       "45323"
      ]
     },
     "execution_count": 8,
     "metadata": {},
     "output_type": "execute_result"
    }
   ],
   "source": [
    "# embeddings_index.pop('195197')\n",
    "\n",
    "len(word_index)"
   ]
  },
  {
   "cell_type": "code",
   "execution_count": 9,
   "metadata": {},
   "outputs": [],
   "source": [
    "embedding_matrix = np.zeros((len(word_index) + 1, EMBEDDING_DIM)) # 为什么要+1呢\n",
    "for word, i in word_index.items():\n",
    "    embedding_vector = embeddings_index.get(word)\n",
    "    if embedding_vector is not None:\n",
    "        # words not found in embedding index will be all-zeros.\n",
    "        embedding_matrix[i] = embedding_vector"
   ]
  },
  {
   "cell_type": "code",
   "execution_count": 10,
   "metadata": {},
   "outputs": [
    {
     "data": {
      "text/plain": [
       "(45324, 300)"
      ]
     },
     "execution_count": 10,
     "metadata": {},
     "output_type": "execute_result"
    }
   ],
   "source": [
    "embedding_matrix.shape"
   ]
  },
  {
   "cell_type": "code",
   "execution_count": 11,
   "metadata": {},
   "outputs": [],
   "source": [
    "# load pre-trained word embeddings into an Embedding layer\n",
    "# note that we set trainable = False so as to keep the embeddings fixed\n",
    "embedding_layer = Embedding(len(word_index) + 1,\n",
    "                            EMBEDDING_DIM,\n",
    "                            weights=[embedding_matrix],\n",
    "                            input_length=MAX_SEQUENCE_LENGTH,\n",
    "                            trainable=False)"
   ]
  },
  {
   "cell_type": "code",
   "execution_count": 31,
   "metadata": {},
   "outputs": [],
   "source": [
    "labels = to_categorical(np.asarray(labels))\n",
    "# labels = np.asarray(labels)\n",
    "x_train, x_val, y_train, y_val = train_test_split(data, labels, test_size=0.2, random_state=42, shuffle=True)"
   ]
  },
  {
   "cell_type": "code",
   "execution_count": 32,
   "metadata": {},
   "outputs": [
    {
     "data": {
      "text/plain": [
       "array([[1., 0.],\n",
       "       [0., 1.]], dtype=float32)"
      ]
     },
     "execution_count": 32,
     "metadata": {},
     "output_type": "execute_result"
    }
   ],
   "source": [
    "y_val[:2]"
   ]
  },
  {
   "cell_type": "code",
   "execution_count": 27,
   "metadata": {},
   "outputs": [],
   "source": [
    "sequence_input = Input(shape=(MAX_SEQUENCE_LENGTH,), dtype='int32')\n",
    "embedded_sequences = embedding_layer(sequence_input)\n",
    "conv1 = Conv1D(128, 2, activation='relu')(embedded_sequences)\n",
    "conv1 = tf.keras.layers.GlobalMaxPooling1D()(conv1)\n",
    "conv2 = Conv1D(128, 4, activation='relu')(embedded_sequences)\n",
    "conv2 = tf.keras.layers.GlobalMaxPooling1D()(conv2)\n",
    "conv3 = Conv1D(128, 5, activation='relu')(embedded_sequences)\n",
    "conv3 = tf.keras.layers.GlobalMaxPooling1D()(conv3)\n",
    "\n",
    "x = tf.keras.layers.Concatenate(axis=-1)([conv1, conv2, conv3])\n",
    "# x = tf.layers.Flatten()(x)\n",
    "x = Dense(128, activation='relu')(x)\n",
    "x = tf.layers.Dropout(0.2)(x)\n",
    "preds = Dense(2, activation='softmax')(x)"
   ]
  },
  {
   "cell_type": "code",
   "execution_count": 28,
   "metadata": {},
   "outputs": [
    {
     "name": "stdout",
     "output_type": "stream",
     "text": [
      "__________________________________________________________________________________________________\n",
      "Layer (type)                    Output Shape         Param #     Connected to                     \n",
      "==================================================================================================\n",
      "input_2 (InputLayer)            (None, 20)           0                                            \n",
      "__________________________________________________________________________________________________\n",
      "embedding (Embedding)           (None, 20, 300)      13597200    input_2[0][0]                    \n",
      "__________________________________________________________________________________________________\n",
      "conv1d_3 (Conv1D)               (None, 19, 128)      76928       embedding[1][0]                  \n",
      "__________________________________________________________________________________________________\n",
      "conv1d_4 (Conv1D)               (None, 17, 128)      153728      embedding[1][0]                  \n",
      "__________________________________________________________________________________________________\n",
      "conv1d_5 (Conv1D)               (None, 16, 128)      192128      embedding[1][0]                  \n",
      "__________________________________________________________________________________________________\n",
      "global_max_pooling1d_3 (GlobalM (None, 128)          0           conv1d_3[0][0]                   \n",
      "__________________________________________________________________________________________________\n",
      "global_max_pooling1d_4 (GlobalM (None, 128)          0           conv1d_4[0][0]                   \n",
      "__________________________________________________________________________________________________\n",
      "global_max_pooling1d_5 (GlobalM (None, 128)          0           conv1d_5[0][0]                   \n",
      "__________________________________________________________________________________________________\n",
      "concatenate_1 (Concatenate)     (None, 384)          0           global_max_pooling1d_3[0][0]     \n",
      "                                                                 global_max_pooling1d_4[0][0]     \n",
      "                                                                 global_max_pooling1d_5[0][0]     \n",
      "__________________________________________________________________________________________________\n",
      "dense_2 (Dense)                 (None, 128)          49280       concatenate_1[0][0]              \n",
      "__________________________________________________________________________________________________\n",
      "dropout_2 (Dropout)             (None, 128)          0           dense_2[0][0]                    \n",
      "__________________________________________________________________________________________________\n",
      "dense_3 (Dense)                 (None, 2)            258         dropout_2[0][0]                  \n",
      "==================================================================================================\n",
      "Total params: 14,069,522\n",
      "Trainable params: 472,322\n",
      "Non-trainable params: 13,597,200\n",
      "__________________________________________________________________________________________________\n"
     ]
    }
   ],
   "source": [
    "model = Model(inputs=sequence_input, outputs=preds)\n",
    "model.summary()"
   ]
  },
  {
   "cell_type": "code",
   "execution_count": 16,
   "metadata": {},
   "outputs": [],
   "source": [
    "# need graphviz & pydot\n",
    "if False:\n",
    "    tf.keras.utils.plot_model(model=model, to_file='model_shape_out1.png', show_shapes=True)"
   ]
  },
  {
   "cell_type": "code",
   "execution_count": 34,
   "metadata": {},
   "outputs": [
    {
     "name": "stdout",
     "output_type": "stream",
     "text": [
      "Train on 40000 samples, validate on 10000 samples\n",
      "Epoch 1/20\n",
      "40000/40000 [==============================] - 27s 667us/step - loss: 0.0339 - acc: 0.9899 - val_loss: 0.4479 - val_acc: 0.9003\n",
      "Epoch 2/20\n",
      "40000/40000 [==============================] - 30s 752us/step - loss: 0.0050 - acc: 0.9991 - val_loss: 0.4294 - val_acc: 0.9048\n",
      "Epoch 3/20\n",
      "40000/40000 [==============================] - 27s 679us/step - loss: 0.0041 - acc: 0.9993 - val_loss: 0.4434 - val_acc: 0.9060\n",
      "Epoch 4/20\n",
      "40000/40000 [==============================] - 28s 710us/step - loss: 0.0041 - acc: 0.9991 - val_loss: 0.4461 - val_acc: 0.9058\n",
      "Epoch 5/20\n",
      "40000/40000 [==============================] - 29s 718us/step - loss: 0.0041 - acc: 0.9994 - val_loss: 0.5100 - val_acc: 0.8935\n",
      "Epoch 6/20\n",
      "40000/40000 [==============================] - 27s 679us/step - loss: 0.0040 - acc: 0.9992 - val_loss: 0.5439 - val_acc: 0.8951\n",
      "Epoch 7/20\n",
      "40000/40000 [==============================] - 28s 694us/step - loss: 0.0104 - acc: 0.9973 - val_loss: 0.5643 - val_acc: 0.8984\n",
      "Epoch 8/20\n",
      "40000/40000 [==============================] - 28s 697us/step - loss: 0.0367 - acc: 0.9869 - val_loss: 0.4913 - val_acc: 0.8981\n",
      "Epoch 9/20\n",
      "40000/40000 [==============================] - 32s 789us/step - loss: 0.0174 - acc: 0.9940 - val_loss: 0.5440 - val_acc: 0.8984\n",
      "Epoch 10/20\n",
      "40000/40000 [==============================] - 28s 710us/step - loss: 0.0076 - acc: 0.9978 - val_loss: 0.5626 - val_acc: 0.8991\n",
      "Epoch 11/20\n",
      "40000/40000 [==============================] - 27s 684us/step - loss: 0.0034 - acc: 0.9994 - val_loss: 0.5698 - val_acc: 0.9011\n",
      "Epoch 12/20\n",
      "40000/40000 [==============================] - 27s 679us/step - loss: 0.0024 - acc: 0.9996 - val_loss: 0.5751 - val_acc: 0.9004\n",
      "Epoch 13/20\n",
      "40000/40000 [==============================] - 26s 656us/step - loss: 0.0018 - acc: 0.9996 - val_loss: 0.6235 - val_acc: 0.8985\n",
      "Epoch 14/20\n",
      "40000/40000 [==============================] - 26s 644us/step - loss: 0.0020 - acc: 0.9995 - val_loss: 0.6392 - val_acc: 0.8990\n",
      "Epoch 15/20\n",
      "40000/40000 [==============================] - 29s 715us/step - loss: 0.0019 - acc: 0.9995 - val_loss: 0.5858 - val_acc: 0.9008\n",
      "Epoch 16/20\n",
      "40000/40000 [==============================] - 28s 699us/step - loss: 0.0017 - acc: 0.9995 - val_loss: 0.6586 - val_acc: 0.8950\n",
      "Epoch 17/20\n",
      "40000/40000 [==============================] - 26s 658us/step - loss: 0.0016 - acc: 0.9995 - val_loss: 0.6156 - val_acc: 0.8988\n",
      "Epoch 18/20\n",
      "40000/40000 [==============================] - 26s 648us/step - loss: 0.0018 - acc: 0.9995 - val_loss: 0.6066 - val_acc: 0.9007\n",
      "Epoch 19/20\n",
      "40000/40000 [==============================] - 26s 652us/step - loss: 0.0025 - acc: 0.9994 - val_loss: 0.7577 - val_acc: 0.8924\n",
      "Epoch 20/20\n",
      "40000/40000 [==============================] - 28s 698us/step - loss: 0.0020 - acc: 0.9996 - val_loss: 0.6520 - val_acc: 0.9027\n"
     ]
    }
   ],
   "source": [
    "model.compile(loss='categorical_crossentropy',\n",
    "              optimizer='adam',\n",
    "              metrics=['acc'])\n",
    "\n",
    "history = model.fit(x_train, y_train, validation_data=(x_val, y_val),\n",
    "          epochs=20, batch_size=256)"
   ]
  },
  {
   "cell_type": "code",
   "execution_count": 36,
   "metadata": {},
   "outputs": [
    {
     "data": {
      "text/plain": [
       "<matplotlib.legend.Legend at 0x1a3718de80>"
      ]
     },
     "execution_count": 36,
     "metadata": {},
     "output_type": "execute_result"
    },
    {
     "data": {
      "image/png": "[encoded data removed]",
      "text/plain": [
       "<Figure size 432x288 with 1 Axes>"
      ]
     },
     "metadata": {},
     "output_type": "display_data"
    }
   ],
   "source": [
    "# 绘图\n",
    "acc = history.history['acc']\n",
    "val_acc = history.history['val_acc']\n",
    "loss = history.history['loss']\n",
    "val_loss = history.history['val_loss']\n",
    "\n",
    "plt.plot(acc)\n",
    "plt.plot(val_acc)\n",
    "plt.ylim(ymin=0.5, ymax=1.01)\n",
    "plt.title(\"The accuracy of CNN model\")\n",
    "plt.legend([\"train\", \"val\"])"
   ]
  },
  {
   "cell_type": "markdown",
   "metadata": {},
   "source": [
    "二分类"
   ]
  },
  {
   "cell_type": "code",
   "execution_count": 37,
   "metadata": {},
   "outputs": [],
   "source": [
    "labels = np.concatenate((pos_label, neg_label), axis=0)\n",
    "x_train, x_val, y_train, y_val = train_test_split(data, labels, test_size=0.2, random_state=42, shuffle=True)"
   ]
  },
  {
   "cell_type": "code",
   "execution_count": 38,
   "metadata": {},
   "outputs": [],
   "source": [
    "sequence_input = Input(shape=(MAX_SEQUENCE_LENGTH,), dtype='int32')\n",
    "embedded_sequences = embedding_layer(sequence_input)\n",
    "conv1 = Conv1D(128, 2, activation='relu')(embedded_sequences)\n",
    "conv1 = tf.keras.layers.GlobalMaxPooling1D()(conv1)\n",
    "conv2 = Conv1D(128, 4, activation='relu')(embedded_sequences)\n",
    "conv2 = tf.keras.layers.GlobalMaxPooling1D()(conv2)\n",
    "conv3 = Conv1D(128, 5, activation='relu')(embedded_sequences)\n",
    "conv3 = tf.keras.layers.GlobalMaxPooling1D()(conv3)\n",
    "\n",
    "x = tf.keras.layers.Concatenate(axis=-1)([conv1, conv2, conv3])\n",
    "# x = tf.layers.Flatten()(x)\n",
    "x = Dense(128, activation='relu')(x)\n",
    "x = tf.layers.Dropout(0.2)(x)\n",
    "preds = Dense(1, activation='sigmoid')(x)"
   ]
  },
  {
   "cell_type": "code",
   "execution_count": 39,
   "metadata": {},
   "outputs": [
    {
     "name": "stdout",
     "output_type": "stream",
     "text": [
      "__________________________________________________________________________________________________\n",
      "Layer (type)                    Output Shape         Param #     Connected to                     \n",
      "==================================================================================================\n",
      "input_3 (InputLayer)            (None, 20)           0                                            \n",
      "__________________________________________________________________________________________________\n",
      "embedding (Embedding)           (None, 20, 300)      13597200    input_3[0][0]                    \n",
      "__________________________________________________________________________________________________\n",
      "conv1d_6 (Conv1D)               (None, 19, 128)      76928       embedding[2][0]                  \n",
      "__________________________________________________________________________________________________\n",
      "conv1d_7 (Conv1D)               (None, 17, 128)      153728      embedding[2][0]                  \n",
      "__________________________________________________________________________________________________\n",
      "conv1d_8 (Conv1D)               (None, 16, 128)      192128      embedding[2][0]                  \n",
      "__________________________________________________________________________________________________\n",
      "global_max_pooling1d_6 (GlobalM (None, 128)          0           conv1d_6[0][0]                   \n",
      "__________________________________________________________________________________________________\n",
      "global_max_pooling1d_7 (GlobalM (None, 128)          0           conv1d_7[0][0]                   \n",
      "__________________________________________________________________________________________________\n",
      "global_max_pooling1d_8 (GlobalM (None, 128)          0           conv1d_8[0][0]                   \n",
      "__________________________________________________________________________________________________\n",
      "concatenate_2 (Concatenate)     (None, 384)          0           global_max_pooling1d_6[0][0]     \n",
      "                                                                 global_max_pooling1d_7[0][0]     \n",
      "                                                                 global_max_pooling1d_8[0][0]     \n",
      "__________________________________________________________________________________________________\n",
      "dense_4 (Dense)                 (None, 128)          49280       concatenate_2[0][0]              \n",
      "__________________________________________________________________________________________________\n",
      "dropout_3 (Dropout)             (None, 128)          0           dense_4[0][0]                    \n",
      "__________________________________________________________________________________________________\n",
      "dense_5 (Dense)                 (None, 1)            129         dropout_3[0][0]                  \n",
      "==================================================================================================\n",
      "Total params: 14,069,393\n",
      "Trainable params: 472,193\n",
      "Non-trainable params: 13,597,200\n",
      "__________________________________________________________________________________________________\n"
     ]
    }
   ],
   "source": [
    "model = Model(inputs=sequence_input, outputs=preds)\n",
    "model.summary()"
   ]
  },
  {
   "cell_type": "code",
   "execution_count": 40,
   "metadata": {},
   "outputs": [
    {
     "data": {
      "text/plain": [
       "array([0., 1.])"
      ]
     },
     "execution_count": 40,
     "metadata": {},
     "output_type": "execute_result"
    }
   ],
   "source": [
    "y_val[:2]"
   ]
  },
  {
   "cell_type": "code",
   "execution_count": 41,
   "metadata": {},
   "outputs": [],
   "source": [
    "model.compile(optimizer=tf.train.AdamOptimizer(),\n",
    "              loss='binary_crossentropy',\n",
    "              metrics=['accuracy'])"
   ]
  },
  {
   "cell_type": "code",
   "execution_count": 42,
   "metadata": {},
   "outputs": [
    {
     "name": "stdout",
     "output_type": "stream",
     "text": [
      "Train on 40000 samples, validate on 10000 samples\n",
      "Epoch 1/20\n",
      "40000/40000 [==============================] - 28s 706us/step - loss: 0.3127 - acc: 0.8707 - val_loss: 0.2494 - val_acc: 0.9035\n",
      "Epoch 2/20\n",
      "40000/40000 [==============================] - 27s 663us/step - loss: 0.1957 - acc: 0.9270 - val_loss: 0.2379 - val_acc: 0.9085\n",
      "Epoch 3/20\n",
      "40000/40000 [==============================] - 26s 647us/step - loss: 0.1373 - acc: 0.9510 - val_loss: 0.2521 - val_acc: 0.9034\n",
      "Epoch 4/20\n",
      "40000/40000 [==============================] - 31s 773us/step - loss: 0.0741 - acc: 0.9748 - val_loss: 0.3051 - val_acc: 0.9013\n",
      "Epoch 5/20\n",
      "40000/40000 [==============================] - 30s 738us/step - loss: 0.0362 - acc: 0.9889 - val_loss: 0.3514 - val_acc: 0.9019\n",
      "Epoch 6/20\n",
      "40000/40000 [==============================] - 28s 701us/step - loss: 0.0276 - acc: 0.9915 - val_loss: 0.4175 - val_acc: 0.8984\n",
      "Epoch 7/20\n",
      "40000/40000 [==============================] - 28s 699us/step - loss: 0.0318 - acc: 0.9891 - val_loss: 0.5662 - val_acc: 0.8825\n",
      "Epoch 8/20\n",
      "40000/40000 [==============================] - 26s 658us/step - loss: 0.0297 - acc: 0.9900 - val_loss: 0.4821 - val_acc: 0.8948\n",
      "Epoch 9/20\n",
      "40000/40000 [==============================] - 28s 695us/step - loss: 0.0194 - acc: 0.9931 - val_loss: 0.4970 - val_acc: 0.8973\n",
      "Epoch 10/20\n",
      "40000/40000 [==============================] - 28s 712us/step - loss: 0.0276 - acc: 0.9899 - val_loss: 0.6934 - val_acc: 0.8735\n",
      "Epoch 11/20\n",
      "40000/40000 [==============================] - 28s 708us/step - loss: 0.0137 - acc: 0.9956 - val_loss: 0.5244 - val_acc: 0.9005\n",
      "Epoch 12/20\n",
      "40000/40000 [==============================] - 28s 711us/step - loss: 0.0092 - acc: 0.9973 - val_loss: 0.5832 - val_acc: 0.8977\n",
      "Epoch 13/20\n",
      "40000/40000 [==============================] - 29s 713us/step - loss: 0.0086 - acc: 0.9975 - val_loss: 0.7385 - val_acc: 0.8834\n",
      "Epoch 14/20\n",
      "40000/40000 [==============================] - 28s 702us/step - loss: 0.0358 - acc: 0.9874 - val_loss: 0.5090 - val_acc: 0.9005\n",
      "Epoch 15/20\n",
      "40000/40000 [==============================] - 30s 747us/step - loss: 0.0162 - acc: 0.9943 - val_loss: 0.6102 - val_acc: 0.8987\n",
      "Epoch 16/20\n",
      "40000/40000 [==============================] - 32s 791us/step - loss: 0.0138 - acc: 0.9956 - val_loss: 0.6512 - val_acc: 0.8834\n",
      "Epoch 17/20\n",
      "40000/40000 [==============================] - 29s 718us/step - loss: 0.0084 - acc: 0.9971 - val_loss: 0.6037 - val_acc: 0.8986\n",
      "Epoch 18/20\n",
      "40000/40000 [==============================] - 29s 724us/step - loss: 0.0096 - acc: 0.9969 - val_loss: 0.6497 - val_acc: 0.8971\n",
      "Epoch 19/20\n",
      "40000/40000 [==============================] - 28s 710us/step - loss: 0.0187 - acc: 0.9932 - val_loss: 0.6222 - val_acc: 0.8965\n",
      "Epoch 20/20\n",
      "40000/40000 [==============================] - 30s 758us/step - loss: 0.0150 - acc: 0.9950 - val_loss: 0.6246 - val_acc: 0.8979\n"
     ]
    }
   ],
   "source": [
    "history = model.fit(x_train, y_train, validation_data=(x_val, y_val),\n",
    "          epochs=20, batch_size=128)"
   ]
  },
  {
   "cell_type": "code",
   "execution_count": 43,
   "metadata": {},
   "outputs": [],
   "source": [
    "tf.keras.utils.plot_model(model=model, to_file='model_shape_out1.png', show_shapes=True)"
   ]
  },
  {
   "cell_type": "code",
   "execution_count": 44,
   "metadata": {},
   "outputs": [
    {
     "data": {
      "text/plain": [
       "<matplotlib.legend.Legend at 0x1a381307b8>"
      ]
     },
     "execution_count": 44,
     "metadata": {},
     "output_type": "execute_result"
    },
    {
     "data": {
      "image/png": "[encoded data removed]",
      "text/plain": [
       "<Figure size 432x288 with 1 Axes>"
      ]
     },
     "metadata": {},
     "output_type": "display_data"
    }
   ],
   "source": [
    "# 绘图\n",
    "acc = history.history['acc']\n",
    "val_acc = history.history['val_acc']\n",
    "loss = history.history['loss']\n",
    "val_loss = history.history['val_loss']\n",
    "\n",
    "plt.plot(acc)\n",
    "plt.plot(val_acc)\n",
    "plt.ylim(ymin=0.5, ymax=1.01)\n",
    "plt.title(\"The accuracy of CNN model\")\n",
    "plt.legend([\"train\", \"val\"])"
   ]
  },
  {
   "cell_type": "code",
   "execution_count": 45,
   "metadata": {},
   "outputs": [
    {
     "name": "stdout",
     "output_type": "stream",
     "text": [
      "WARNING:tensorflow:TensorFlow optimizers do not make it possible to access optimizer attributes or optimizer state after instantiation. As a result, we cannot save the optimizer as part of the model save file.You will have to compile your model again after loading it. Prefer using a Keras optimizer instead (see keras.io/optimizers).\n",
      "WARNING:tensorflow:No training configuration found in save file: the model was *not* compiled. Compile it manually.\n"
     ]
    }
   ],
   "source": [
    "# Save entire model to a HDF5 file\n",
    "MODEL_FILE = 'textcnn.h5'\n",
    "model.save(MODEL_FILE)\n",
    "\n",
    "# Recreate the exact same model, including weights and optimizer.\n",
    "model = tf.keras.models.load_model(MODEL_FILE)"
   ]
  },
  {
   "cell_type": "code",
   "execution_count": 46,
   "metadata": {},
   "outputs": [],
   "source": [
    "prediction = model.predict(x_val[:4])"
   ]
  },
  {
   "cell_type": "code",
   "execution_count": 47,
   "metadata": {},
   "outputs": [
    {
     "data": {
      "text/plain": [
       "array([[6.524366e-11],\n",
       "       [9.999976e-01],\n",
       "       [9.999199e-01],\n",
       "       [9.999999e-01]], dtype=float32)"
      ]
     },
     "execution_count": 47,
     "metadata": {},
     "output_type": "execute_result"
    }
   ],
   "source": [
    "prediction"
   ]
  },
  {
   "cell_type": "code",
   "execution_count": 69,
   "metadata": {},
   "outputs": [
    {
     "data": {
      "text/plain": [
       "array([0, 1, 1, 1])"
      ]
     },
     "execution_count": 69,
     "metadata": {},
     "output_type": "execute_result"
    }
   ],
   "source": [
    "predictLabel = (prediction > 0.5) + 0\n",
    "predictLabel.reshape((predictLabel.shape[0]))"
   ]
  },
  {
   "cell_type": "code",
   "execution_count": 51,
   "metadata": {},
   "outputs": [
    {
     "data": {
      "text/plain": [
       "array([[  575,    61,   158,    37,    50,    16,    11,    25,     4,\n",
       "            1,   424,    93,    11,   137,     4,    40,    97,    93,\n",
       "            6,   144],\n",
       "       [   48,   236,   732,   126,     1,    72,    10,    14,     3,\n",
       "          257,    11,    52,     3,    72,   224,    21,    12,    41,\n",
       "           88,    90],\n",
       "       [  530,     2,    31,    14,     1,    76,    10,   135,     1,\n",
       "          513,   683,   120,    67, 13642,  4870,     3,     3,    83,\n",
       "          142,  1288],\n",
       "       [    3,    63,   618,     2,   392,   199,     1,    66,   538,\n",
       "            2,     1,   242,   337,    14,     3,    96,  1442,    20,\n",
       "         7415,     5]], dtype=int32)"
      ]
     },
     "execution_count": 51,
     "metadata": {},
     "output_type": "execute_result"
    }
   ],
   "source": [
    "x_val[:4]"
   ]
  },
  {
   "cell_type": "code",
   "execution_count": 53,
   "metadata": {},
   "outputs": [],
   "source": [
    "index_word = dict(zip(word_index.values(), word_index.keys()))"
   ]
  },
  {
   "cell_type": "code",
   "execution_count": 72,
   "metadata": {},
   "outputs": [
    {
     "name": "stdout",
     "output_type": "stream",
     "text": [
      "text:['别人', '吃', '吗', '？', '小', '就', '不', '说', '了', '，', '可是', '真的', '不', '新鲜', '了', '这', '一次', '真的', '很', '失望'], predict --> 0\n",
      "text:['价格', '虽然', '不算', '便宜', '，', '但是', '也', '不错', '。', '个头', '不', '大', '。', '但是', '从', '京东', '买', '东西', '方便', '啊'], predict --> 1\n",
      "text:['店家', '的', '服务', '不错', '，', '物流', '也', '很快', '，', '不用', '期待', '着', '什么', '时侯', '收获', '。', '。', '你', '值得', '拥有'], predict --> 1\n",
      "text:['。', '我们', '定', '的', '大床', '房', '，', '挺', '安静', '的', '，', '总体', '来说', '不错', '。', '前台', '结账', '没有', '银联', '！'], predict --> 1\n"
     ]
    }
   ],
   "source": [
    "for i,indexList in enumerate(x_val[:4]):\n",
    "    wordList = [index_word.get(index) for index in indexList]\n",
    "    print(\"text:%s, predict --> %s\" % (wordList, predictLabel[i][0]))"
   ]
  },
  {
   "cell_type": "code",
   "execution_count": null,
   "metadata": {},
   "outputs": [],
   "source": []
  }
 ],
 "metadata": {
  "kernelspec": {
   "display_name": "Python 3",
   "language": "python",
   "name": "python3"
  },
  "language_info": {
   "codemirror_mode": {
    "name": "ipython",
    "version": 3
   },
   "file_extension": ".py",
   "mimetype": "text/x-python",
   "name": "python",
   "nbconvert_exporter": "python",
   "pygments_lexer": "ipython3",
   "version": "3.6.5"
  }
 },
 "nbformat": 4,
 "nbformat_minor": 2
}
